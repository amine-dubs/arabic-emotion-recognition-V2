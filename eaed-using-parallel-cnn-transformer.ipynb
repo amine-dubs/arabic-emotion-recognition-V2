{
 "cells": [
  {
   "cell_type": "code",
   "execution_count": null,
   "metadata": {
    "_cell_guid": "b1076dfc-b9ad-4769-8c92-a6c4dae69d19",
    "_uuid": "8f2839f25d086af736a60e9eeb907d3b93b6e0e5",
    "execution": {
     "iopub.execute_input": "2024-05-10T15:28:11.599577Z",
     "iopub.status.busy": "2024-05-10T15:28:11.599075Z",
     "iopub.status.idle": "2024-05-10T15:28:11.966971Z",
     "shell.execute_reply": "2024-05-10T15:28:11.966238Z",
     "shell.execute_reply.started": "2024-05-10T15:28:11.599531Z"
    },
    "trusted": true
   },
   "outputs": [],
   "source": [
    "import numpy as np\n",
    "import pandas as pd\n",
    "import os\n",
    "import librosa\n",
    "import matplotlib.pyplot as plt\n",
    "import time\n",
    "\n",
    "# Imports for the new pipeline\n",
    "import tensorflow as tf\n",
    "from tensorflow.keras.applications import ResNet50\n",
    "from tensorflow.keras.models import Model\n",
    "from tensorflow.keras.layers import Input, Lambda\n",
    "from tensorflow.keras.preprocessing.image import img_to_array, load_img\n",
    "from skimage.transform import resize # For resizing spectrograms\n",
    "\n",
    "from mealpy import SCA\n",
    "from sklearn.model_selection import train_test_split\n",
    "from sklearn.neighbors import KNeighborsClassifier\n",
    "from sklearn.metrics import accuracy_score, f1_score, confusion_matrix, classification_report\n",
    "from sklearn.preprocessing import StandardScaler\n",
    "import seaborn as sns"
   ]
  },
  {
   "cell_type": "code",
   "execution_count": null,
   "metadata": {
    "execution": {
     "iopub.execute_input": "2024-05-10T15:28:11.968907Z",
     "iopub.status.busy": "2024-05-10T15:28:11.968526Z",
     "iopub.status.idle": "2024-05-10T15:28:11.973708Z",
     "shell.execute_reply": "2024-05-10T15:28:11.972858Z",
     "shell.execute_reply.started": "2024-05-10T15:28:11.968880Z"
    },
    "trusted": true
   },
   "outputs": [],
   "source": [
    "EMOTIONS = { 0 : 'Angry',\n",
    "             1 : 'Fearful',\n",
    "             2 : 'Happy',\n",
    "             3 : 'Neutral',\n",
    "             4 : 'Sad',\n",
    "             5 : 'Surprised'\n",
    "           }  \n",
    "# !!! IMPORTANT: Update this path to your local dataset location !!!\n",
    "# DATA_PATH = '/kaggle/input/eaed-voice/EAED' \n",
    "DATA_PATH = './Data' # Example local path\n",
    "SAMPLE_RATE = 16000\n",
    "DURATION = 3 # seconds\n",
    "RESNET_INPUT_SHAPE = (224, 224, 3) # ResNet50 expects 3 channels"
   ]
  },
  {
   "cell_type": "markdown",
   "metadata": {},
   "source": [
    "# 1. Data Loading and Initial Exploration"
   ]
  },
  {
   "cell_type": "code",
   "execution_count": null,
   "metadata": {
    "execution": {
     "iopub.execute_input": "2024-05-10T15:28:11.975915Z",
     "iopub.status.busy": "2024-05-10T15:28:11.974975Z",
     "iopub.status.idle": "2024-05-10T15:28:13.953355Z",
     "shell.execute_reply": "2024-05-10T15:28:13.952381Z",
     "shell.execute_reply.started": "2024-05-10T15:28:11.975883Z"
    },
    "trusted": true
   },
   "outputs": [],
   "source": [
    "file_names = []\n",
    "file_emotions = []\n",
    "file_paths = []\n",
    "\n",
    "# Define mapping from filename code to full emotion name\n",
    "emotion_code_map = {\n",
    "    'ang': 'Angry',\n",
    "    'hap': 'Happy',\n",
    "    'neu': 'Neutral',\n",
    "    'sad': 'Sad',\n",
    "    # Add other codes if present (e.g., 'fea' for Fearful, 'sur' for Surprised)\n",
    "}\n",
    "\n",
    "# Iterate over each show folder (e.g., EYASE)\n",
    "for show_folder in os.listdir(DATA_PATH):\n",
    "    show_path = os.path.join(DATA_PATH, show_folder)\n",
    "    if not os.path.isdir(show_path):\n",
    "        continue\n",
    "    \n",
    "    # Iterate over actor folders (e.g., Female01, Male02)\n",
    "    for actor_folder in os.listdir(show_path):\n",
    "        actor_path = os.path.join(show_path, actor_folder)\n",
    "        if not os.path.isdir(actor_path):\n",
    "            continue\n",
    "        \n",
    "        # Iterate over audio files within the actor folder\n",
    "        for audio_file in os.listdir(actor_path):\n",
    "            if audio_file.endswith(\".wav\"):\n",
    "                try:\n",
    "                    # Parse information from the file name\n",
    "                    # Example: fm01_ang (1).wav -> parts = ['fm01', 'ang (1).wav']\n",
    "                    parts = audio_file.split(\"_\", 1) \n",
    "                    if len(parts) < 2:\n",
    "                        print(f\"Skipping file with unexpected format: {audio_file}\")\n",
    "                        continue\n",
    "                        \n",
    "                    # Extract emotion code: 'ang (1).wav' -> 'ang'\n",
    "                    emotion_code = parts[1].split(' ')[0]\n",
    "                    \n",
    "                    # Map code to full emotion name\n",
    "                    emotion_full_name = emotion_code_map.get(emotion_code)\n",
    "                    \n",
    "                    \n",
    "                        continue\n",
    "                        \n",
    "                    # Encode emotion using the EMOTIONS dictionary\n",
    "                    emotion_encoded = list(EMOTIONS.keys())[list(EMOTIONS.values()).index(emotion_full_name)]\n",
    "                    \n",
    "                    # Construct the full file path\n",
    "                    file_path = os.path.join(actor_path, audio_file)\n",
    "                    \n",
    "                    # Append the information to the lists\n",
    "                    file_names.append(audio_file)\n",
    "                    file_emotions.append(emotion_encoded)\n",
    "                    file_paths.append(file_path)\n",
    "                except Exception as e:\n",
    "                    print(f\"Error processing file {audio_file} in {actor_path}: {e}\")"
   ]
  },
  {
   "cell_type": "code",
   "execution_count": 4,
   "metadata": {
    "execution": {
     "iopub.execute_input": "2024-05-10T15:28:13.955730Z",
     "iopub.status.busy": "2024-05-10T15:28:13.955441Z",
     "iopub.status.idle": "2024-05-10T15:28:13.967303Z",
     "shell.execute_reply": "2024-05-10T15:28:13.966270Z",
     "shell.execute_reply.started": "2024-05-10T15:28:13.955705Z"
    },
    "trusted": true
   },
   "outputs": [],
   "source": [
    "# Create a DataFrame\n",
    "Data = pd.DataFrame({\n",
    "    \"Name\": file_names,\n",
    "    \"Emotion\": file_emotions,\n",
    "    \"Path\": file_paths\n",
    "})"
   ]
  },
  {
   "cell_type": "code",
   "execution_count": 5,
   "metadata": {
    "execution": {
     "iopub.execute_input": "2024-05-10T15:28:13.968838Z",
     "iopub.status.busy": "2024-05-10T15:28:13.968515Z",
     "iopub.status.idle": "2024-05-10T15:28:13.987872Z",
     "shell.execute_reply": "2024-05-10T15:28:13.987116Z",
     "shell.execute_reply.started": "2024-05-10T15:28:13.968812Z"
    },
    "trusted": true
   },
   "outputs": [
    {
     "data": {
      "text/html": [
       "<div>\n",
       "<style scoped>\n",
       "    .dataframe tbody tr th:only-of-type {\n",
       "        vertical-align: middle;\n",
       "    }\n",
       "\n",
       "    .dataframe tbody tr th {\n",
       "        vertical-align: top;\n",
       "    }\n",
       "\n",
       "    .dataframe thead th {\n",
       "        text-align: right;\n",
       "    }\n",
       "</style>\n",
       "<table border=\"1\" class=\"dataframe\">\n",
       "  <thead>\n",
       "    <tr style=\"text-align: right;\">\n",
       "      <th></th>\n",
       "      <th>Name</th>\n",
       "      <th>Emotion</th>\n",
       "      <th>Path</th>\n",
       "    </tr>\n",
       "  </thead>\n",
       "  <tbody>\n",
       "    <tr>\n",
       "      <th>0</th>\n",
       "      <td>LailaArabi_Fearful_5.wav</td>\n",
       "      <td>1</td>\n",
       "      <td>/kaggle/input/eaed-voice/EAED/SahebElSaada/Lai...</td>\n",
       "    </tr>\n",
       "    <tr>\n",
       "      <th>1</th>\n",
       "      <td>LailaArabi_Fearful_6.wav</td>\n",
       "      <td>1</td>\n",
       "      <td>/kaggle/input/eaed-voice/EAED/SahebElSaada/Lai...</td>\n",
       "    </tr>\n",
       "    <tr>\n",
       "      <th>2</th>\n",
       "      <td>LailaArabi_Fearful_3.wav</td>\n",
       "      <td>1</td>\n",
       "      <td>/kaggle/input/eaed-voice/EAED/SahebElSaada/Lai...</td>\n",
       "    </tr>\n",
       "    <tr>\n",
       "      <th>3</th>\n",
       "      <td>LailaArabi_Fearful_1.wav</td>\n",
       "      <td>1</td>\n",
       "      <td>/kaggle/input/eaed-voice/EAED/SahebElSaada/Lai...</td>\n",
       "    </tr>\n",
       "    <tr>\n",
       "      <th>4</th>\n",
       "      <td>LailaArabi_Fearful_2.wav</td>\n",
       "      <td>1</td>\n",
       "      <td>/kaggle/input/eaed-voice/EAED/SahebElSaada/Lai...</td>\n",
       "    </tr>\n",
       "  </tbody>\n",
       "</table>\n",
       "</div>"
      ],
      "text/plain": [
       "                       Name  Emotion  \\\n",
       "0  LailaArabi_Fearful_5.wav        1   \n",
       "1  LailaArabi_Fearful_6.wav        1   \n",
       "2  LailaArabi_Fearful_3.wav        1   \n",
       "3  LailaArabi_Fearful_1.wav        1   \n",
       "4  LailaArabi_Fearful_2.wav        1   \n",
       "\n",
       "                                                Path  \n",
       "0  /kaggle/input/eaed-voice/EAED/SahebElSaada/Lai...  \n",
       "1  /kaggle/input/eaed-voice/EAED/SahebElSaada/Lai...  \n",
       "2  /kaggle/input/eaed-voice/EAED/SahebElSaada/Lai...  \n",
       "3  /kaggle/input/eaed-voice/EAED/SahebElSaada/Lai...  \n",
       "4  /kaggle/input/eaed-voice/EAED/SahebElSaada/Lai...  "
      ]
     },
     "execution_count": 5,
     "metadata": {},
     "output_type": "execute_result"
    }
   ],
   "source": [
    "Data.head()"
   ]
  },
  {
   "cell_type": "code",
   "execution_count": 6,
   "metadata": {
    "execution": {
     "iopub.execute_input": "2024-05-10T15:28:13.989361Z",
     "iopub.status.busy": "2024-05-10T15:28:13.988968Z",
     "iopub.status.idle": "2024-05-10T15:28:13.994863Z",
     "shell.execute_reply": "2024-05-10T15:28:13.993871Z",
     "shell.execute_reply.started": "2024-05-10T15:28:13.989323Z"
    },
    "trusted": true
   },
   "outputs": [
    {
     "name": "stdout",
     "output_type": "stream",
     "text": [
      "number of files is 3614\n"
     ]
    }
   ],
   "source": [
    "print(\"number of files is {}\".format(len(Data)))"
   ]
  },
  {
   "cell_type": "code",
   "execution_count": 7,
   "metadata": {
    "execution": {
     "iopub.execute_input": "2024-05-10T15:28:13.996301Z",
     "iopub.status.busy": "2024-05-10T15:28:13.996008Z",
     "iopub.status.idle": "2024-05-10T15:28:14.207016Z",
     "shell.execute_reply": "2024-05-10T15:28:14.206067Z",
     "shell.execute_reply.started": "2024-05-10T15:28:13.996276Z"
    },
    "trusted": true
   },
   "outputs": [
    {
     "data": {
      "text/plain": [
       "Text(0, 0.5, 'Number of examples')"
      ]
     },
     "execution_count": 7,
     "metadata": {},
     "output_type": "execute_result"
    },
    {
     "data": {
      "image/png": "[encoded data removed]",
      "text/plain": [
       "<Figure size 640x480 with 1 Axes>"
      ]
     },
     "metadata": {},
     "output_type": "display_data"
    }
   ],
   "source": [
    "fig = plt.figure()\n",
    "ax = fig.add_subplot(111)\n",
    "ax.bar(x=range(6), height=Data['Emotion'].value_counts())\n",
    "ax.set_xticks(ticks=range(6))\n",
    "ax.set_xticklabels([EMOTIONS[i] for i in EMOTIONS ],fontsize=10)\n",
    "ax.set_xlabel('Emotions')\n",
    "ax.set_ylabel('Number of examples')"
   ]
  },
  {
   "cell_type": "markdown",
   "metadata": {},
   "source": [
    "# 2. Spectrogram Generation"
   ]
  },
  {
   "cell_type": "code",
   "execution_count": 8,
   "metadata": {
    "execution": {
     "iopub.execute_input": "2024-05-10T15:28:14.209585Z",
     "iopub.status.busy": "2024-05-10T15:28:14.208911Z",
     "iopub.status.idle": "2024-05-10T15:28:14.215503Z",
     "shell.execute_reply": "2024-05-10T15:28:14.214510Z",
     "shell.execute_reply.started": "2024-05-10T15:28:14.209550Z"
    },
    "trusted": true
   },
   "outputs": [],
   "source": [
    "def getMELspectrogram(audio, sample_rate):\n",
    "    mel_spec = librosa.feature.melspectrogram(y=audio,\n",
    "                                              sr=sample_rate,\n",
    "                                              n_fft=1024,\n",
    "                                              win_length = 512,\n",
    "                                              window='hamming',\n",
    "                                              hop_length = 256,\n",
    "                                              n_mels=128,\n",
    "                                              fmax=sample_rate/2\n",
    "                                             )\n",
    "    mel_spec_db = librosa.power_to_db(mel_spec, ref=np.max)\n",
    "    return mel_spec_db"
   ]
  },
  {
   "cell_type": "code",
   "execution_count": null,
   "metadata": {
    "execution": {
     "iopub.execute_input": "2024-05-10T15:28:14.216989Z",
     "iopub.status.busy": "2024-05-10T15:28:14.216668Z",
     "iopub.status.idle": "2024-05-10T15:28:24.777112Z",
     "shell.execute_reply": "2024-05-10T15:28:24.776234Z",
     "shell.execute_reply.started": "2024-05-10T15:28:14.216953Z"
    },
    "trusted": true
   },
   "outputs": [
    {
     "name": "stdout",
     "output_type": "stream",
     "text": [
      "MEL spectrogram shape:  (128, 188)\n"
     ]
    },
    {
     "data": {
      "image/png": "[encoded data removed]",
      "text/plain": [
       "<Figure size 640x480 with 1 Axes>"
      ]
     },
     "metadata": {},
     "output_type": "display_data"
    }
   ],
   "source": [
    "audio, sample_rate = librosa.load(Data.loc[0,'Path'], duration=DURATION, offset=0.5,sr=SAMPLE_RATE)\n",
    "signal = np.zeros((int(SAMPLE_RATE*DURATION,)))\n",
    "signal[:len(audio)] = audio\n",
    "mel_spectrogram = getMELspectrogram(signal, SAMPLE_RATE)\n",
    "librosa.display.specshow(mel_spectrogram, sr=sample_rate, y_axis='mel', x_axis='time')\n",
    "plt.colorbar(format='%+2.0f dB')\n",
    "plt.title('MEL spectrogram example')\n",
    "plt.tight_layout()\n",
    "plt.show()\n",
    "print('Original MEL spectrogram shape: ',mel_spectrogram.shape)"
   ]
  },
  {
   "cell_type": "code",
   "execution_count": null,
   "metadata": {},
   "outputs": [],
   "source": [
    "# Function to resize and prepare spectrogram for ResNet50\n",
    "def prepare_spectrogram_for_resnet(spec, output_shape):\n",
    "    # Resize\n",
    "    spec_resized = resize(spec, output_shape[:2], anti_aliasing=True)\n",
    "    # Normalize to 0-1 range (assuming spec is in dB)\n",
    "    spec_resized -= spec_resized.min()\n",
    "    if spec_resized.max() > 0:\n",
    "        spec_resized /= spec_resized.max()\n",
    "    # Convert to 3 channels by stacking\n",
    "    spec_3channel = np.stack([spec_resized]*3, axis=-1)\n",
    "    return spec_3channel"
   ]
  },
  {
   "cell_type": "code",
   "execution_count": null,
   "metadata": {},
   "outputs": [],
   "source": [
    "# Test preparation function\n",
    "prepared_spec = prepare_spectrogram_for_resnet(mel_spectrogram, RESNET_INPUT_SHAPE)\n",
    "print('Prepared spectrogram shape: ', prepared_spec.shape)\n",
    "plt.imshow(prepared_spec)\n",
    "plt.title('Prepared Spectrogram (3 channels)')\n",
    "plt.show()"
   ]
  },
  {
   "cell_type": "code",
   "execution_count": null,
   "metadata": {
    "execution": {
     "iopub.execute_input": "2024-05-10T15:28:24.781833Z",
     "iopub.status.busy": "2024-05-10T15:28:24.781040Z",
     "iopub.status.idle": "2024-05-10T15:30:16.916620Z",
     "shell.execute_reply": "2024-05-10T15:30:16.915147Z",
     "shell.execute_reply.started": "2024-05-10T15:28:24.781797Z"
    },
    "trusted": true
   },
   "outputs": [
    {
     "name": "stdout",
     "output_type": "stream",
     "text": [
      " Processed 1495/3614 files"
     ]
    },
    {
     "name": "stderr",
     "output_type": "stream",
     "text": [
      "/tmp/ipykernel_34/1901792975.py:4: UserWarning: PySoundFile failed. Trying audioread instead.\n",
      "  audio, sample_rate = librosa.load(file_path, duration=3, offset=0.5, sr=SAMPLE_RATE)\n",
      "/opt/conda/lib/python3.10/site-packages/librosa/core/audio.py:183: FutureWarning: librosa.core.audio.__audioread_load\n",
      "\tDeprecated as of librosa version 0.10.0.\n",
      "\tIt will be removed in librosa version 1.0.\n",
      "  y, sr_native = __audioread_load(path, offset, duration, dtype)\n"
     ]
    },
    {
     "name": "stdout",
     "output_type": "stream",
     "text": [
      " Processed 3613/3614 files"
     ]
    }
   ],
   "source": [
    "prepared_spectrograms = []\n",
    "start_time = time.time()\n",
    "print(\"Generating and preparing spectrograms...\")\n",
    "for i, file_path in enumerate(Data.Path):\n",
    "    try:\n",
    "        audio, sample_rate = librosa.load(file_path, duration=DURATION, offset=0.5, sr=SAMPLE_RATE)\n",
    "        signal = np.zeros((int(SAMPLE_RATE*DURATION,)))\n",
    "        signal[:len(audio)] = audio\n",
    "        mel_spectrogram = getMELspectrogram(signal, sample_rate=SAMPLE_RATE)\n",
    "        prepared_spec = prepare_spectrogram_for_resnet(mel_spectrogram, RESNET_INPUT_SHAPE)\n",
    "        prepared_spectrograms.append(prepared_spec)\n",
    "    except Exception as e:\n",
    "        print(f\"\\nError processing {file_path}: {e}\")\n",
    "        # Handle error, e.g., append a placeholder or remove the corresponding row from Data\n",
    "        # For now, let's remove the row if processing fails\n",
    "        Data = Data.drop(i).reset_index(drop=True) # Drop the row and reset index\n",
    "        # Need to adjust the loop counter or iterate differently if dropping rows\n",
    "        # A safer approach might be to collect valid indices and filter Data afterwards\n",
    "        # Or store results in a dict {index: spec} and rebuild Data\n",
    "        # For simplicity now, we just print error and continue, which might lead to mismatch\n",
    "        # A better fix is needed for robust processing.\n",
    "        pass # Continue to next file\n",
    "\n",
    "    print(f\"\\r Processed {i+1}/{len(Data.Path)} files\", end='')\n",
    "\n",
    "prepared_spectrograms = np.array(prepared_spectrograms)\n",
    "end_time = time.time()\n",
    "print(f\"\\nFinished in {end_time - start_time:.2f} seconds.\")\n",
    "print(\"Shape of prepared spectrograms array:\", prepared_spectrograms.shape)"
   ]
  },
  {
   "cell_type": "markdown",
   "metadata": {},
   "source": [
    "# 3. Feature Extraction using ResNet50"
   ]
  },
  {
   "cell_type": "code",
   "execution_count": null,
   "metadata": {},
   "outputs": [],
   "source": [
    "# Load pre-trained ResNet50 model + higher level layers\n",
    "print(\"Loading ResNet50 model...\")\n",
    "base_model = ResNet50(weights='imagenet', include_top=False, input_shape=RESNET_INPUT_SHAPE, pooling='avg')\n",
    "# base_model.summary() # Optional: Print model summary\n",
    "\n",
    "# Create a new model that outputs the features\n",
    "feature_model = Model(inputs=base_model.input, outputs=base_model.output)\n",
    "print(\"ResNet50 model loaded.\")"
   ]
  },
  {
   "cell_type": "code",
   "execution_count": null,
   "metadata": {},
   "outputs": [],
   "source": [
    "# Extract features\n",
    "# Note: ResNet50 expects preprocessed input (specific normalization)\n",
    "# We'll apply the standard ResNet preprocessing\n",
    "print(\"Extracting features using ResNet50...\")\n",
    "start_time = time.time()\n",
    "resnet_features = feature_model.predict(tf.keras.applications.resnet50.preprocess_input(prepared_spectrograms))\n",
    "end_time = time.time()\n",
    "print(f\"Finished in {end_time - start_time:.2f} seconds.\")\n",
    "print(\"Shape of extracted features:\", resnet_features.shape)\n",
    "\n",
    "# Free up memory\n",
    "del prepared_spectrograms\n",
    "import gc\n",
    "gc.collect()"
   ]
  },
  {
   "cell_type": "markdown",
   "metadata": {},
   "source": [
    "# 4. Data Splitting and Scaling"
   ]
  },
  {
   "cell_type": "code",
   "execution_count": null,
   "metadata": {},
   "outputs": [],
   "source": [
    "X = resnet_features\n",
    "y = Data['Emotion'].values\n",
    "\n",
    "# Split data into training+validation and testing sets (80% train+val, 20% test)\n",
    "X_train_val, X_test, y_train_val, y_test = train_test_split(X, y, test_size=0.2, random_state=42, stratify=y)\n",
    "\n",
    "# Split training+validation into training and validation sets (80% train, 20% val of the original 80%)\n",
    "# This means 64% train, 16% val, 20% test of the total data\n",
    "X_train, X_val, y_train, y_val = train_test_split(X_train_val, y_train_val, test_size=0.2, random_state=42, stratify=y_train_val) # 0.2 * 0.8 = 0.16\n",
    "\n",
    "print(\"Original data shape:\", X.shape, y.shape)\n",
    "print(\"Training data shape:\", X_train.shape, y_train.shape)\n",
    "print(\"Validation data shape:\", X_val.shape, y_val.shape)\n",
    "print(\"Test data shape:\", X_test.shape, y_test.shape)\n",
    "\n",
    "# Scale features\n",
    "scaler = StandardScaler()\n",
    "X_train_scaled = scaler.fit_transform(X_train)\n",
    "X_val_scaled = scaler.transform(X_val)\n",
    "X_test_scaled = scaler.transform(X_test)\n",
    "\n",
    "# Free up memory\n",
    "del X, y, X_train, X_val, X_test, X_train_val, y_train_val, resnet_features\n",
    "gc.collect()"
   ]
  },
  {
   "cell_type": "markdown",
   "metadata": {},
   "source": [
    "# 5. Feature Selection using Sine Cosine Algorithm (SCA)"
   ]
  },
  {
   "cell_type": "code",
   "execution_count": null,
   "metadata": {},
   "outputs": [],
   "source": [
    "# Define the fitness function for SCA\n",
    "num_features_total = X_train_scaled.shape[1]\n",
    "knn_eval = KNeighborsClassifier(n_neighbors=5) # k-NN for evaluation within fitness function\n",
    "\n",
    "def fitness_function(solution):\n",
    "    selected_indices = np.where(solution == 1)[0]\n",
    "    num_selected = len(selected_indices)\n",
    "\n",
    "    if num_selected == 0:\n",
    "        return 1.0 # Penalize solutions with no features\n",
    "\n",
    "    # Select features\n",
    "    X_train_subset = X_train_scaled[:, selected_indices]\n",
    "    X_val_subset = X_val_scaled[:, selected_indices]\n",
    "\n",
    "    # Train k-NN on the subset\n",
    "    knn_eval.fit(X_train_subset, y_train)\n",
    "\n",
    "    # Evaluate on validation set\n",
    "    y_pred_val = knn_eval.predict(X_val_subset)\n",
    "    accuracy = accuracy_score(y_val, y_pred_val)\n",
    "\n",
    "    # Calculate fitness value (minimize this)\n",
    "    fitness = 0.99 * (1 - accuracy) + 0.01 * (num_selected / num_features_total)\n",
    "    return fitness"
   ]
  },
  {
   "cell_type": "code",
   "execution_count": null,
   "metadata": {},
   "outputs": [],
   "source": [
    "# SCA Parameters\n",
    "epoch = 20 # Number of iterations (reduce for quicker testing)\n",
    "pop_size = 10 # Population size (reduce for quicker testing)\n",
    "problem_dict = {\n",
    "    \"fit_func\": fitness_function,\n",
    "    \"lb\": 0, # Lower bound for each variable (feature selection = 0 or 1)\n",
    "    \"ub\": 1,\n",
    "    \"minmax\": \"min\",\n",
    "    \"log_to\": None, # No logging\n",
    "    \"n_dims\": num_features_total, # Number of features\n",
    "    \"verbose\": True,\n",
    "    # Define problem as binary\n",
    "    \"problem_type\": \"binary\" # Important for feature selection\n",
    "}\n",
    "\n",
    "# Initialize and run SCA\n",
    "print(\"Running Sine Cosine Algorithm for feature selection...\")\n",
    "start_time = time.time()\n",
    "model_sca = SCA.OriginalSCA(epoch=epoch, pop_size=pop_size)\n",
    "best_solution, best_fitness = model_sca.solve(problem_dict)\n",
    "end_time = time.time()\n",
    "print(f\"SCA finished in {end_time - start_time:.2f} seconds.\")\n",
    "\n",
    "# Get selected features\n",
    "selected_feature_indices = np.where(best_solution == 1)[0]\n",
    "num_selected_features = len(selected_feature_indices)\n",
    "print(f\"Selected {num_selected_features} features out of {num_features_total}.\")\n",
    "print(f\"Best fitness found: {best_fitness:.4f}\")"
   ]
  },
  {
   "cell_type": "markdown",
   "metadata": {},
   "source": [
    "# 6. Classification using k-NN with Selected Features"
   ]
  },
  {
   "cell_type": "code",
   "execution_count": null,
   "metadata": {},
   "outputs": [],
   "source": [
    "# Select the features chosen by SCA\n",
    "X_train_selected = X_train_scaled[:, selected_feature_indices]\n",
    "X_test_selected = X_test_scaled[:, selected_feature_indices]\n",
    "\n",
    "print(\"Training k-NN classifier on selected features...\")\n",
    "start_time = time.time()\n",
    "knn_final = KNeighborsClassifier(n_neighbors=5) # You might want to tune n_neighbors\n",
    "knn_final.fit(X_train_selected, y_train)\n",
    "end_time = time.time()\n",
    "print(f\"k-NN training finished in {end_time - start_time:.2f} seconds.\")\n",
    "\n",
    "# Predict on the test set\n",
    "print(\"Predicting on test set...\")\n",
    "start_time = time.time()\n",
    "y_pred_test = knn_final.predict(X_test_selected)\n",
    "end_time = time.time()\n",
    "print(f\"Prediction finished in {end_time - start_time:.2f} seconds.\")"
   ]
  },
  {
   "cell_type": "markdown",
   "metadata": {},
   "source": [
    "# 7. Evaluation and Visualization"
   ]
  },
  {
   "cell_type": "code",
   "execution_count": null,
   "metadata": {},
   "outputs": [],
   "source": [
    "# Calculate metrics\n",
    "accuracy_test = accuracy_score(y_test, y_pred_test)\n",
    "f1_test = f1_score(y_test, y_pred_test, average='weighted') # Use 'weighted' for multiclass imbalance\n",
    "conf_matrix = confusion_matrix(y_test, y_pred_test)\n",
    "class_report = classification_report(y_test, y_pred_test, target_names=[EMOTIONS[i] for i in sorted(EMOTIONS.keys())])\n",
    "\n",
    "print(f\"\\n--- Evaluation Results ---\")\n",
    "print(f\"Test Accuracy: {accuracy_test:.4f}\")\n",
    "print(f\"Test F1-Score (Weighted): {f1_test:.4f}\")\n",
    "print(\"\\nClassification Report:\")\n",
    "print(class_report)\n",
    "\n",
    "# Plot Confusion Matrix\n",
    "plt.figure(figsize=(8, 6))\n",
    "sns.heatmap(conf_matrix, annot=True, fmt='d', cmap='Blues',\n",
    "            xticklabels=[EMOTIONS[i] for i in sorted(EMOTIONS.keys())],\n",
    "            yticklabels=[EMOTIONS[i] for i in sorted(EMOTIONS.keys())])\n",
    "plt.xlabel('Predicted Label')\n",
    "plt.ylabel('True Label')\n",
    "plt.title('Confusion Matrix')\n",
    "plt.show()"
   ]
  },
  {
   "cell_type": "markdown",
   "metadata": {},
   "source": [
    "# --- End of New Pipeline ---\n",
    "\n",
    "--- (Original Kaggle Notebook Code Below - Can be removed) ---"
   ]
  },
  {
   "cell_type": "code",
   "execution_count": null,
   "metadata": {
    "execution": {
     "iopub.execute_input": "2024-05-10T15:30:16.919145Z",
     "iopub.status.busy": "2024-05-10T15:30:16.918673Z",
     "iopub.status.idle": "2024-05-10T15:30:16.936436Z",
     "shell.execute_reply": "2024-05-10T15:30:16.935246Z",
     "shell.execute_reply.started": "2024-05-10T15:30:16.919087Z"
    },
    "trusted": true
   },
   "outputs": [],
   "source": [
    "# Original Augmentation Code (Not used in the new pipeline above)\n",
    "# def addAWGN(signal, num_bits=16, augmented_num=2, snr_low=15, snr_high=30): \n",
    "#     ...\n",
    "#     return signal + K.T * noise"
   ]
  },
  {
   "cell_type": "code",
   "execution_count": null,
   "metadata": {
    "execution": {
     "iopub.execute_input": "2024-05-10T15:30:16.940020Z",
     "iopub.status.busy": "2024-05-10T15:30:16.938771Z",
     "iopub.status.idle": "2024-05-10T15:32:22.428325Z",
     "shell.execute_reply": "2024-05-10T15:32:22.427143Z",
     "shell.execute_reply.started": "2024-05-10T15:30:16.939974Z"
    },
    "trusted": true
   },
   "outputs": [
    {
     "name": "stdout",
     "output_type": "stream",
     "text": [
      " Processed 3613/3614 files"
     ]
    }
   ],
   "source": [
    "# Original Augmentation Application (Not used)\n",
    "# for i,signal in enumerate(signals):\n",
    "#     ...\n",
    "#     print(\"\\r Processed {}/{} files\".format(i,len(signals)),end='')"
   ]
  },
  {
   "cell_type": "code",
   "execution_count": null,
   "metadata": {
    "execution": {
     "iopub.execute_input": "2024-05-10T15:32:22.430874Z",
     "iopub.status.busy": "2024-05-10T15:32:22.430144Z",
     "iopub.status.idle": "2024-05-10T15:32:25.468564Z",
     "shell.execute_reply": "2024-05-10T15:32:25.467795Z",
     "shell.execute_reply.started": "2024-05-10T15:32:22.430827Z"
    },
    "trusted": true
   },
   "outputs": [],
   "source": [
    "# Original Model Imports (Not used)\n",
    "# import torch\n",
    "# import torch.nn as nn"
   ]
  },
  {
   "cell_type": "code",
   "execution_count": null,
   "metadata": {
    "execution": {
     "iopub.execute_input": "2024-05-10T15:32:25.470131Z",
     "iopub.status.busy": "2024-05-10T15:32:25.469646Z",
     "iopub.status.idle": "2024-05-10T15:32:25.484961Z",
     "shell.execute_reply": "2024-05-10T15:32:25.484141Z",
     "shell.execute_reply.started": "2024-05-10T15:32:25.470087Z"
    },
    "trusted": true
   },
   "outputs": [],
   "source": [
    "# Original ParallelModel Definition (Not used)\n",
    "# class ParallelModel(nn.Module):\n",
    "#     ...\n",
    "#     return output_logits, output_softmax"
   ]
  },
  {
   "cell_type": "code",
   "execution_count": null,
   "metadata": {
    "execution": {
     "iopub.execute_input": "2024-05-10T15:32:25.486413Z",
     "iopub.status.busy": "2024-05-10T15:32:25.486114Z",
     "iopub.status.idle": "2024-05-10T15:32:25.496204Z",
     "shell.execute_reply": "2024-05-10T15:32:25.495398Z",
     "shell.execute_reply.started": "2024-05-10T15:32:25.486386Z"
    },
    "trusted": true
   },
   "outputs": [],
   "source": [
    "# Original Loss Function (Not used)\n",
    "# def loss_fnc(predictions, targets):\n",
    "#     return nn.CrossEntropyLoss()(input=predictions,target=targets)"
   ]
  },
  {
   "cell_type": "code",
   "execution_count": null,
   "metadata": {
    "execution": {
     "iopub.execute_input": "2024-05-10T15:32:25.497781Z",
     "iopub.status.busy": "2024-05-10T15:32:25.497439Z",
     "iopub.status.idle": "2024-05-10T15:32:25.505515Z",
     "shell.execute_reply": "2024-05-10T15:32:25.504665Z",
     "shell.execute_reply.started": "2024-05-10T15:32:25.497748Z"
    },
    "trusted": true
   },
   "outputs": [],
   "source": [
    "# Original Training Step (Not used)\n",
    "# def make_train_step(model, loss_fnc, optimizer):\n",
    "#     ...\n",
    "#     return train_step"
   ]
  },
  {
   "cell_type": "code",
   "execution_count": null,
   "metadata": {
    "execution": {
     "iopub.execute_input": "2024-05-10T15:32:25.507394Z",
     "iopub.status.busy": "2024-05-10T15:32:25.506983Z",
     "iopub.status.idle": "2024-05-10T15:32:25.514001Z",
     "shell.execute_reply": "2024-05-10T15:32:25.513304Z",
     "shell.execute_reply.started": "2024-05-10T15:32:25.507354Z"
    },
    "trusted": true
   },
   "outputs": [],
   "source": [
    "# Original Validation Function (Not used)\n",
    "# def make_validate_fnc(model,loss_fnc):\n",
    "#     ...\n",
    "#     return validate"
   ]
  },
  {
   "cell_type": "code",
   "execution_count": null,
   "metadata": {
    "execution": {
     "iopub.execute_input": "2024-05-10T15:32:25.515541Z",
     "iopub.status.busy": "2024-05-10T15:32:25.515202Z",
     "iopub.status.idle": "2024-05-10T15:32:26.154609Z",
     "shell.execute_reply": "2024-05-10T15:32:26.153645Z",
     "shell.execute_reply.started": "2024-05-10T15:32:25.515509Z"
    },
    "trusted": true
   },
   "outputs": [
    {
     "name": "stdout",
     "output_type": "stream",
     "text": [
      "Shape of data:  (10842, 1, 128, 188)\n"
     ]
    }
   ],
   "source": [
    "# Original Data Stacking (Handled differently now)\n",
    "# X = np.stack(mel_spectrograms,axis=0)\n",
    "# ...\n",
    "# del signals"
   ]
  },
  {
   "cell_type": "code",
   "execution_count": null,
   "metadata": {
    "execution": {
     "iopub.execute_input": "2024-05-10T15:32:26.155952Z",
     "iopub.status.busy": "2024-05-10T15:32:26.155678Z",
     "iopub.status.idle": "2024-05-10T15:32:27.332876Z",
     "shell.execute_reply": "2024-05-10T15:32:27.331678Z",
     "shell.execute_reply.started": "2024-05-10T15:32:26.155926Z"
    },
    "trusted": true
   },
   "outputs": [
    {
     "name": "stdout",
     "output_type": "stream",
     "text": [
      "\n",
      "\n",
      "\n",
      "\n",
      "\n",
      "\n",
      "X_train:(8671, 1, 128, 188), Y_train:(8671,)\n",
      "X_val:(1083, 1, 128, 188), Y_val:(1083,)\n",
      "X_test:(1088, 1, 128, 188), Y_test:(1088,)\n",
      "Number of unique indexes is 10842, out of 10842\n"
     ]
    }
   ],
   "source": [
    "# Original Data Splitting (Handled differently now)\n",
    "# train_ind,test_ind,val_ind = [],[],[]\n",
    "# ...\n",
    "# del X"
   ]
  },
  {
   "cell_type": "code",
   "execution_count": null,
   "metadata": {
    "execution": {
     "iopub.execute_input": "2024-05-10T15:32:27.335149Z",
     "iopub.status.busy": "2024-05-10T15:32:27.334554Z",
     "iopub.status.idle": "2024-05-10T15:32:30.299616Z",
     "shell.execute_reply": "2024-05-10T15:32:30.298822Z",
     "shell.execute_reply.started": "2024-05-10T15:32:27.335110Z"
    },
    "trusted": true
   },
   "outputs": [],
   "source": [
    "# Original Scaling (Handled differently now)\n",
    "# from sklearn.preprocessing import StandardScaler\n",
    "# ...\n",
    "# X_val = np.reshape(X_val, newshape=(b,c,h,w))"
   ]
  },
  {
   "cell_type": "code",
   "execution_count": null,
   "metadata": {
    "execution": {
     "iopub.execute_input": "2024-05-10T15:32:30.300820Z",
     "iopub.status.busy": "2024-05-10T15:32:30.300558Z",
     "iopub.status.idle": "2024-05-10T15:47:17.129121Z",
     "shell.execute_reply": "2024-05-10T15:47:17.128133Z",
     "shell.execute_reply.started": "2024-05-10T15:32:30.300796Z"
    },
    "trusted": true
   },
   "outputs": [
    {
     "name": "stdout",
     "output_type": "stream",
     "text": [
      "Selected device is cuda\n"
     ]
    },
    {
     "name": "stderr",
     "output_type": "stream",
     "text": [
      "/opt/conda/lib/python3.10/site-packages/torch/nn/modules/transformer.py:282: UserWarning: enable_nested_tensor is True, but self.use_nested_tensor is False because encoder_layer.self_attn.batch_first was not True(use batch_first for better inference performance)\n",
      "  warnings.warn(f\"enable_nested_tensor is True, but self.use_nested_tensor is False because {why_not_sparsity_fast_path}\")\n"
     ]
    },
    {
     "name": "stdout",
     "output_type": "stream",
     "text": [
      "Number of trainable params:  393382\n",
      " Epoch 0: iteration 269/270\n",
      "Epoch 0 --> loss:1.5898, acc:37.90%, val_loss:1.7054, val_acc:31.12%\n",
      " Epoch 1: iteration 269/270\n",
      "Epoch 1 --> loss:1.4725, acc:43.09%, val_loss:1.5584, val_acc:36.84%\n",
      " Epoch 2: iteration 269/270\n",
      "Epoch 2 --> loss:1.4243, acc:45.74%, val_loss:1.5954, val_acc:39.61%\n",
      " Epoch 3: iteration 269/270\n",
      "Epoch 3 --> loss:1.4014, acc:46.36%, val_loss:1.4079, val_acc:47.46%\n",
      " Epoch 4: iteration 269/270\n",
      "Epoch 4 --> loss:1.3678, acc:47.99%, val_loss:1.7297, val_acc:36.38%\n",
      " Epoch 5: iteration 269/270\n",
      "Epoch 5 --> loss:1.3351, acc:48.82%, val_loss:1.4858, val_acc:42.20%\n",
      " Epoch 6: iteration 269/270\n",
      "Epoch 6 --> loss:1.3246, acc:49.34%, val_loss:1.6047, val_acc:37.86%\n",
      " Epoch 7: iteration 269/270\n",
      "Epoch 7 --> loss:1.2889, acc:50.96%, val_loss:1.4684, val_acc:44.32%\n",
      " Epoch 8: iteration 269/270\n",
      "Epoch 8 --> loss:1.2725, acc:51.40%, val_loss:1.3028, val_acc:50.51%\n",
      " Epoch 9: iteration 269/270\n",
      "Epoch 9 --> loss:1.2521, acc:52.53%, val_loss:1.5641, val_acc:43.95%\n",
      " Epoch 10: iteration 269/270\n",
      "Epoch 10 --> loss:1.2331, acc:53.32%, val_loss:1.7393, val_acc:35.18%\n",
      " Epoch 11: iteration 269/270\n",
      "Epoch 11 --> loss:1.2175, acc:53.93%, val_loss:1.5515, val_acc:40.26%\n",
      " Epoch 12: iteration 269/270\n",
      "Epoch 12 --> loss:1.1952, acc:54.69%, val_loss:1.7014, val_acc:36.29%\n",
      " Epoch 13: iteration 269/270\n",
      "Epoch 13 --> loss:1.1798, acc:55.18%, val_loss:1.3701, val_acc:49.22%\n",
      " Epoch 14: iteration 269/270\n",
      "Epoch 14 --> loss:1.1625, acc:55.86%, val_loss:1.4052, val_acc:45.71%\n",
      " Epoch 15: iteration 269/270\n",
      "Epoch 15 --> loss:1.1402, acc:57.08%, val_loss:1.4871, val_acc:44.51%\n",
      " Epoch 16: iteration 269/270\n",
      "Epoch 16 --> loss:1.1222, acc:57.44%, val_loss:1.7841, val_acc:39.52%\n",
      " Epoch 17: iteration 269/270\n",
      "Epoch 17 --> loss:1.1137, acc:58.25%, val_loss:1.5176, val_acc:43.95%\n",
      " Epoch 18: iteration 269/270\n",
      "Epoch 18 --> loss:1.0897, acc:58.55%, val_loss:1.4800, val_acc:44.97%\n",
      " Epoch 19: iteration 269/270\n",
      "Epoch 19 --> loss:1.0725, acc:59.80%, val_loss:1.2398, val_acc:53.83%\n",
      " Epoch 20: iteration 269/270\n",
      "Epoch 20 --> loss:1.0533, acc:59.90%, val_loss:1.2685, val_acc:53.37%\n",
      " Epoch 21: iteration 269/270\n",
      "Epoch 21 --> loss:1.0346, acc:61.01%, val_loss:1.4202, val_acc:49.77%\n",
      " Epoch 22: iteration 269/270\n",
      "Epoch 22 --> loss:1.0246, acc:61.60%, val_loss:1.1321, val_acc:57.16%\n",
      " Epoch 23: iteration 269/270\n",
      "Epoch 23 --> loss:0.9997, acc:62.16%, val_loss:1.5129, val_acc:46.54%\n",
      " Epoch 24: iteration 269/270\n",
      "Epoch 24 --> loss:0.9819, acc:63.45%, val_loss:1.0877, val_acc:59.65%\n",
      " Epoch 25: iteration 269/270\n",
      "Epoch 25 --> loss:0.9799, acc:62.84%, val_loss:1.2607, val_acc:53.09%\n",
      " Epoch 26: iteration 269/270\n",
      "Epoch 26 --> loss:0.9690, acc:63.89%, val_loss:1.1802, val_acc:55.03%\n",
      " Epoch 27: iteration 269/270\n",
      "Epoch 27 --> loss:0.9398, acc:64.32%, val_loss:1.0852, val_acc:60.66%\n",
      " Epoch 28: iteration 269/270\n",
      "Epoch 28 --> loss:0.9191, acc:66.14%, val_loss:1.2474, val_acc:53.19%\n",
      " Epoch 29: iteration 269/270\n",
      "Epoch 29 --> loss:0.9001, acc:66.36%, val_loss:1.0877, val_acc:59.65%\n",
      " Epoch 30: iteration 269/270\n",
      "Epoch 30 --> loss:0.8886, acc:66.57%, val_loss:1.0043, val_acc:64.54%\n",
      " Epoch 31: iteration 269/270\n",
      "Epoch 31 --> loss:0.8813, acc:67.12%, val_loss:1.2207, val_acc:57.53%\n",
      " Epoch 32: iteration 269/270\n",
      "Epoch 32 --> loss:0.8671, acc:67.36%, val_loss:1.0789, val_acc:59.93%\n",
      " Epoch 33: iteration 269/270\n",
      "Epoch 33 --> loss:0.8400, acc:69.03%, val_loss:1.2358, val_acc:55.49%\n",
      " Epoch 34: iteration 269/270\n",
      "Epoch 34 --> loss:0.8228, acc:68.58%, val_loss:1.1153, val_acc:59.00%\n",
      " Epoch 35: iteration 269/270\n",
      "Epoch 35 --> loss:0.8228, acc:69.67%, val_loss:0.9255, val_acc:66.85%\n",
      " Epoch 36: iteration 269/270\n",
      "Epoch 36 --> loss:0.8053, acc:70.07%, val_loss:0.9739, val_acc:65.65%\n",
      " Epoch 37: iteration 269/270\n",
      "Epoch 37 --> loss:0.7898, acc:70.64%, val_loss:1.3362, val_acc:53.74%\n",
      " Epoch 38: iteration 269/270\n",
      "Epoch 38 --> loss:0.7863, acc:71.18%, val_loss:0.9824, val_acc:66.20%\n",
      " Epoch 39: iteration 269/270\n",
      "Epoch 39 --> loss:0.7517, acc:71.89%, val_loss:1.0758, val_acc:64.17%\n",
      " Epoch 40: iteration 269/270\n",
      "Epoch 40 --> loss:0.7442, acc:72.43%, val_loss:1.0011, val_acc:64.82%\n",
      " Epoch 41: iteration 269/270\n",
      "Epoch 41 --> loss:0.7293, acc:72.82%, val_loss:1.0772, val_acc:61.77%\n",
      " Epoch 42: iteration 269/270\n",
      "Epoch 42 --> loss:0.7256, acc:72.96%, val_loss:0.9659, val_acc:66.30%\n",
      " Epoch 43: iteration 269/270\n",
      "Epoch 43 --> loss:0.7139, acc:73.64%, val_loss:0.8517, val_acc:70.54%\n",
      " Epoch 44: iteration 269/270\n",
      "Epoch 44 --> loss:0.6918, acc:74.21%, val_loss:1.0934, val_acc:61.59%\n",
      " Epoch 45: iteration 269/270\n",
      "Epoch 45 --> loss:0.7013, acc:73.87%, val_loss:1.0501, val_acc:64.64%\n",
      " Epoch 46: iteration 269/270\n",
      "Epoch 46 --> loss:0.6629, acc:75.37%, val_loss:0.8776, val_acc:69.25%\n",
      " Epoch 47: iteration 269/270\n",
      "Epoch 47 --> loss:0.6567, acc:75.90%, val_loss:0.8778, val_acc:68.98%\n",
      " Epoch 48: iteration 269/270\n",
      "Epoch 48 --> loss:0.6607, acc:75.34%, val_loss:1.0150, val_acc:66.94%\n",
      " Epoch 49: iteration 269/270\n",
      "Epoch 49 --> loss:0.6400, acc:76.29%, val_loss:0.8380, val_acc:72.21%\n",
      " Epoch 50: iteration 269/270\n",
      "Epoch 50 --> loss:0.6229, acc:77.05%, val_loss:0.9325, val_acc:69.71%\n",
      " Epoch 51: iteration 269/270\n",
      "Epoch 51 --> loss:0.6271, acc:76.63%, val_loss:0.8491, val_acc:70.82%\n",
      " Epoch 52: iteration 269/270\n",
      "Epoch 52 --> loss:0.6164, acc:76.82%, val_loss:0.8236, val_acc:71.65%\n",
      " Epoch 53: iteration 269/270\n",
      "Epoch 53 --> loss:0.6004, acc:77.90%, val_loss:0.9655, val_acc:65.56%\n",
      " Epoch 54: iteration 269/270\n",
      "Epoch 54 --> loss:0.5939, acc:78.16%, val_loss:0.9411, val_acc:66.39%\n",
      " Epoch 55: iteration 269/270\n",
      "Epoch 55 --> loss:0.5833, acc:78.90%, val_loss:0.7569, val_acc:74.79%\n",
      " Epoch 56: iteration 269/270\n",
      "Epoch 56 --> loss:0.5749, acc:78.55%, val_loss:0.7652, val_acc:74.79%\n",
      " Epoch 57: iteration 269/270\n",
      "Epoch 57 --> loss:0.5711, acc:78.69%, val_loss:0.7304, val_acc:75.16%\n",
      " Epoch 58: iteration 269/270\n",
      "Epoch 58 --> loss:0.5439, acc:80.05%, val_loss:0.7739, val_acc:74.42%\n",
      " Epoch 59: iteration 269/270\n",
      "Epoch 59 --> loss:0.5384, acc:80.38%, val_loss:0.7575, val_acc:75.72%\n",
      " Epoch 60: iteration 269/270\n",
      "Epoch 60 --> loss:0.5310, acc:80.05%, val_loss:0.7953, val_acc:74.42%\n",
      " Epoch 61: iteration 269/270\n",
      "Epoch 61 --> loss:0.5384, acc:79.92%, val_loss:0.7203, val_acc:75.99%\n",
      " Epoch 62: iteration 269/270\n",
      "Epoch 62 --> loss:0.5240, acc:80.19%, val_loss:0.7271, val_acc:75.35%\n",
      " Epoch 63: iteration 269/270\n",
      "Epoch 63 --> loss:0.4993, acc:81.40%, val_loss:0.8807, val_acc:72.67%\n",
      " Epoch 64: iteration 269/270\n",
      "Epoch 64 --> loss:0.5089, acc:81.24%, val_loss:0.6715, val_acc:78.30%\n",
      " Epoch 65: iteration 269/270\n",
      "Epoch 65 --> loss:0.4694, acc:82.21%, val_loss:0.6785, val_acc:77.84%\n",
      " Epoch 66: iteration 269/270\n",
      "Epoch 66 --> loss:0.5088, acc:81.05%, val_loss:0.6978, val_acc:76.18%\n",
      " Epoch 67: iteration 269/270\n",
      "Epoch 67 --> loss:0.4737, acc:82.69%, val_loss:0.5916, val_acc:79.41%\n",
      " Epoch 68: iteration 269/270\n",
      "Epoch 68 --> loss:0.4728, acc:82.75%, val_loss:0.7204, val_acc:78.30%\n",
      " Epoch 69: iteration 269/270\n",
      "Epoch 69 --> loss:0.4556, acc:83.07%, val_loss:0.7069, val_acc:77.10%\n",
      " Epoch 70: iteration 269/270\n",
      "Epoch 70 --> loss:0.4473, acc:83.30%, val_loss:0.8808, val_acc:69.34%\n",
      " Epoch 71: iteration 269/270\n",
      "Epoch 71 --> loss:0.4541, acc:83.14%, val_loss:0.6439, val_acc:79.87%\n",
      " Epoch 72: iteration 269/270\n",
      "Epoch 72 --> loss:0.4582, acc:83.24%, val_loss:0.6881, val_acc:77.10%\n",
      " Epoch 73: iteration 269/270\n",
      "Epoch 73 --> loss:0.4380, acc:83.66%, val_loss:0.7887, val_acc:76.18%\n",
      " Epoch 74: iteration 269/270\n",
      "Epoch 74 --> loss:0.4626, acc:82.87%, val_loss:0.7776, val_acc:74.70%\n",
      " Epoch 75: iteration 269/270\n",
      "Epoch 75 --> loss:0.4320, acc:84.12%, val_loss:0.6646, val_acc:78.12%\n",
      " Epoch 76: iteration 269/270\n",
      "Epoch 76 --> loss:0.4178, acc:84.85%, val_loss:0.7603, val_acc:74.05%\n",
      " Epoch 77: iteration 269/270\n",
      "Epoch 77 --> loss:0.4267, acc:84.36%, val_loss:0.6225, val_acc:79.87%\n",
      " Epoch 78: iteration 269/270\n",
      "Epoch 78 --> loss:0.4078, acc:85.37%, val_loss:0.5781, val_acc:80.79%\n",
      " Epoch 79: iteration 269/270\n",
      "Epoch 79 --> loss:0.4106, acc:84.59%, val_loss:0.7306, val_acc:77.84%\n",
      " Epoch 80: iteration 269/270\n",
      "Epoch 80 --> loss:0.4103, acc:84.75%, val_loss:0.6406, val_acc:78.39%\n",
      " Epoch 81: iteration 269/270\n",
      "Epoch 81 --> loss:0.3877, acc:85.83%, val_loss:0.6775, val_acc:79.50%\n",
      " Epoch 82: iteration 269/270\n",
      "Epoch 82 --> loss:0.4109, acc:84.75%, val_loss:0.5084, val_acc:84.58%\n",
      " Epoch 83: iteration 269/270\n",
      "Epoch 83 --> loss:0.3846, acc:85.96%, val_loss:0.4571, val_acc:86.70%\n",
      " Epoch 84: iteration 269/270\n",
      "Epoch 84 --> loss:0.4064, acc:84.92%, val_loss:0.6553, val_acc:80.06%\n",
      " Epoch 85: iteration 269/270\n",
      "Epoch 85 --> loss:0.3847, acc:85.43%, val_loss:0.8051, val_acc:75.25%\n",
      " Epoch 86: iteration 269/270\n",
      "Epoch 86 --> loss:0.3779, acc:86.05%, val_loss:0.5895, val_acc:80.98%\n",
      " Epoch 87: iteration 269/270\n",
      "Epoch 87 --> loss:0.3644, acc:86.38%, val_loss:0.7763, val_acc:75.62%\n",
      " Epoch 88: iteration 269/270\n",
      "Epoch 88 --> loss:0.3793, acc:85.88%, val_loss:0.5392, val_acc:83.10%\n",
      " Epoch 89: iteration 269/270\n",
      "Epoch 89 --> loss:0.3710, acc:86.41%, val_loss:0.8244, val_acc:73.41%\n",
      " Epoch 90: iteration 269/270\n",
      "Epoch 90 --> loss:0.3590, acc:86.67%, val_loss:0.5682, val_acc:82.92%\n",
      " Epoch 91: iteration 269/270\n",
      "Epoch 91 --> loss:0.3537, acc:87.03%, val_loss:0.4916, val_acc:84.12%\n",
      " Epoch 92: iteration 269/270\n",
      "Epoch 92 --> loss:0.3695, acc:85.98%, val_loss:0.4295, val_acc:86.24%\n",
      " Epoch 93: iteration 269/270\n",
      "Epoch 93 --> loss:0.3551, acc:86.78%, val_loss:0.6712, val_acc:79.32%\n",
      " Epoch 94: iteration 269/270\n",
      "Epoch 94 --> loss:0.3430, acc:87.33%, val_loss:0.4879, val_acc:84.49%\n",
      " Epoch 95: iteration 269/270\n",
      "Epoch 95 --> loss:0.3423, acc:87.26%, val_loss:0.7601, val_acc:75.90%\n",
      " Epoch 96: iteration 269/270\n",
      "Epoch 96 --> loss:0.3358, acc:87.64%, val_loss:0.4933, val_acc:84.21%\n",
      " Epoch 97: iteration 269/270\n",
      "Epoch 97 --> loss:0.3538, acc:86.62%, val_loss:0.4800, val_acc:85.23%\n",
      " Epoch 98: iteration 269/270\n",
      "Epoch 98 --> loss:0.3595, acc:86.56%, val_loss:0.5764, val_acc:80.06%\n",
      " Epoch 99: iteration 269/270\n",
      "Epoch 99 --> loss:0.3337, acc:87.69%, val_loss:0.6814, val_acc:78.39%\n",
      " Epoch 100: iteration 269/270\n",
      "Epoch 100 --> loss:0.3405, acc:87.27%, val_loss:0.4838, val_acc:85.23%\n",
      " Epoch 101: iteration 269/270\n",
      "Epoch 101 --> loss:0.3358, acc:87.46%, val_loss:0.5472, val_acc:81.44%\n",
      " Epoch 102: iteration 269/270\n",
      "Epoch 102 --> loss:0.3462, acc:86.86%, val_loss:0.3990, val_acc:87.72%\n",
      " Epoch 103: iteration 269/270\n",
      "Epoch 103 --> loss:0.3170, acc:88.48%, val_loss:0.4901, val_acc:85.23%\n",
      " Epoch 104: iteration 269/270\n",
      "Epoch 104 --> loss:0.3126, acc:88.43%, val_loss:0.5430, val_acc:82.92%\n",
      " Epoch 105: iteration 269/270\n",
      "Epoch 105 --> loss:0.3145, acc:88.67%, val_loss:0.4739, val_acc:85.69%\n",
      " Epoch 106: iteration 269/270\n",
      "Epoch 106 --> loss:0.3115, acc:88.70%, val_loss:0.4856, val_acc:85.50%\n",
      " Epoch 107: iteration 269/270\n",
      "Epoch 107 --> loss:0.3288, acc:88.31%, val_loss:0.4894, val_acc:83.93%\n",
      " Epoch 108: iteration 269/270\n",
      "Epoch 108 --> loss:0.3017, acc:88.77%, val_loss:0.5090, val_acc:85.13%\n",
      " Epoch 109: iteration 269/270\n",
      "Epoch 109 --> loss:0.3341, acc:87.52%, val_loss:0.6232, val_acc:79.41%\n",
      " Epoch 110: iteration 269/270\n",
      "Epoch 110 --> loss:0.3100, acc:88.59%, val_loss:0.4745, val_acc:84.76%\n",
      " Epoch 111: iteration 269/270\n",
      "Epoch 111 --> loss:0.3203, acc:88.12%, val_loss:0.4347, val_acc:87.17%\n",
      " Epoch 112: iteration 269/270\n",
      "Epoch 112 --> loss:0.2878, acc:89.07%, val_loss:0.6457, val_acc:81.35%\n",
      " Epoch 113: iteration 269/270\n",
      "Epoch 113 --> loss:0.3100, acc:88.67%, val_loss:0.4750, val_acc:84.76%\n",
      " Epoch 114: iteration 269/270\n",
      "Epoch 114 --> loss:0.3071, acc:88.61%, val_loss:0.4069, val_acc:87.72%\n",
      " Epoch 115: iteration 269/270\n",
      "Epoch 115 --> loss:0.3135, acc:88.14%, val_loss:0.4298, val_acc:87.07%\n",
      " Epoch 116: iteration 269/270\n",
      "Epoch 116 --> loss:0.2956, acc:89.01%, val_loss:0.5186, val_acc:84.49%\n",
      " Epoch 117: iteration 269/270\n",
      "Epoch 117 --> loss:0.3064, acc:88.92%, val_loss:0.4233, val_acc:86.98%\n",
      " Epoch 118: iteration 269/270\n",
      "Epoch 118 --> loss:0.2916, acc:88.61%, val_loss:0.4707, val_acc:85.23%\n",
      " Epoch 119: iteration 269/270\n",
      "Epoch 119 --> loss:0.2948, acc:89.18%, val_loss:0.4746, val_acc:84.40%\n",
      " Epoch 120: iteration 269/270\n",
      "Epoch 120 --> loss:0.2764, acc:89.67%, val_loss:0.4188, val_acc:88.46%\n",
      " Epoch 121: iteration 269/270\n",
      "Epoch 121 --> loss:0.2884, acc:89.10%, val_loss:0.3871, val_acc:88.92%\n",
      " Epoch 122: iteration 269/270\n",
      "Epoch 122 --> loss:0.2813, acc:89.77%, val_loss:0.3384, val_acc:89.57%\n",
      " Epoch 123: iteration 269/270\n",
      "Epoch 123 --> loss:0.2940, acc:89.45%, val_loss:0.5446, val_acc:83.10%\n",
      " Epoch 124: iteration 269/270\n",
      "Epoch 124 --> loss:0.2791, acc:89.44%, val_loss:0.5060, val_acc:84.58%\n",
      " Epoch 125: iteration 269/270\n",
      "Epoch 125 --> loss:0.2857, acc:89.11%, val_loss:0.5726, val_acc:81.72%\n",
      " Epoch 126: iteration 269/270\n",
      "Epoch 126 --> loss:0.2775, acc:89.46%, val_loss:0.3966, val_acc:87.44%\n",
      " Epoch 127: iteration 269/270\n",
      "Epoch 127 --> loss:0.2718, acc:90.08%, val_loss:0.4026, val_acc:87.63%\n",
      " Epoch 128: iteration 269/270\n",
      "Epoch 128 --> loss:0.2646, acc:90.29%, val_loss:0.3844, val_acc:89.01%\n",
      " Epoch 129: iteration 269/270\n",
      "Epoch 129 --> loss:0.2776, acc:89.59%, val_loss:0.3715, val_acc:89.10%\n",
      " Epoch 130: iteration 269/270\n",
      "Epoch 130 --> loss:0.2654, acc:90.20%, val_loss:0.3578, val_acc:89.66%\n",
      " Epoch 131: iteration 269/270\n",
      "Epoch 131 --> loss:0.2669, acc:90.17%, val_loss:0.5233, val_acc:85.13%\n",
      " Epoch 132: iteration 269/270\n",
      "Epoch 132 --> loss:0.2912, acc:89.59%, val_loss:0.4993, val_acc:84.49%\n",
      " Epoch 133: iteration 269/270\n",
      "Epoch 133 --> loss:0.2551, acc:90.60%, val_loss:0.4255, val_acc:86.89%\n",
      " Epoch 134: iteration 269/270\n",
      "Epoch 134 --> loss:0.2841, acc:89.54%, val_loss:0.4781, val_acc:86.33%\n",
      " Epoch 135: iteration 269/270\n",
      "Epoch 135 --> loss:0.2590, acc:90.53%, val_loss:0.5436, val_acc:83.66%\n",
      " Epoch 136: iteration 269/270\n",
      "Epoch 136 --> loss:0.2621, acc:90.05%, val_loss:0.5904, val_acc:82.46%\n",
      " Epoch 137: iteration 269/270\n",
      "Epoch 137 --> loss:0.2713, acc:90.02%, val_loss:0.4870, val_acc:85.13%\n",
      " Epoch 138: iteration 269/270\n",
      "Epoch 138 --> loss:0.2686, acc:89.95%, val_loss:0.4480, val_acc:86.52%\n",
      " Epoch 139: iteration 269/270\n",
      "Epoch 139 --> loss:0.2597, acc:90.66%, val_loss:0.3947, val_acc:88.55%\n",
      " Epoch 140: iteration 269/270\n",
      "Epoch 140 --> loss:0.2594, acc:90.27%, val_loss:0.4871, val_acc:85.69%\n",
      " Epoch 141: iteration 269/270\n",
      "Epoch 141 --> loss:0.2611, acc:90.65%, val_loss:0.3647, val_acc:89.84%\n",
      " Epoch 142: iteration 269/270\n",
      "Epoch 142 --> loss:0.2488, acc:90.81%, val_loss:0.3827, val_acc:89.57%\n",
      " Epoch 143: iteration 269/270\n",
      "Epoch 143 --> loss:0.2426, acc:90.87%, val_loss:0.5846, val_acc:83.10%\n",
      " Epoch 144: iteration 269/270\n",
      "Epoch 144 --> loss:0.2895, acc:88.86%, val_loss:0.6821, val_acc:80.42%\n",
      " Epoch 145: iteration 269/270\n",
      "Epoch 145 --> loss:0.2414, acc:91.05%, val_loss:0.4555, val_acc:87.72%\n",
      " Epoch 146: iteration 269/270\n",
      "Epoch 146 --> loss:0.2507, acc:90.55%, val_loss:0.4342, val_acc:87.72%\n",
      " Epoch 147: iteration 269/270\n",
      "Epoch 147 --> loss:0.2562, acc:90.50%, val_loss:0.3890, val_acc:89.01%\n",
      " Epoch 148: iteration 269/270\n",
      "Epoch 148 --> loss:0.2451, acc:91.09%, val_loss:0.3964, val_acc:88.27%\n",
      " Epoch 149: iteration 269/270\n",
      "Epoch 149 --> loss:0.2711, acc:90.04%, val_loss:0.3637, val_acc:90.03%\n"
     ]
    }
   ],
   "source": [
    "# Original Training Loop (Not used)\n",
    "# EPOCHS=150\n",
    "# ...\n",
    "# print(f\"Epoch {epoch} --> loss:{epoch_loss:.4f}, acc:{epoch_acc:.2f}%, val_loss:{val_loss:.4f}, val_acc:{val_acc:.2f}%\")"
   ]
  },
  {
   "cell_type": "code",
   "execution_count": null,
   "metadata": {
    "execution": {
     "iopub.execute_input": "2024-05-10T15:47:21.041059Z",
     "iopub.status.busy": "2024-05-10T15:47:21.040505Z",
     "iopub.status.idle": "2024-05-10T15:47:21.266486Z",
     "shell.execute_reply": "2024-05-10T15:47:21.265576Z",
     "shell.execute_reply.started": "2024-05-10T15:47:21.041028Z"
    },
    "trusted": true
   },
   "outputs": [
    {
     "name": "stdout",
     "output_type": "stream",
     "text": [
      "Test loss is 0.325\n",
      "Test accuracy is 89.43%\n"
     ]
    }
   ],
   "source": [
    "# Original Test Evaluation (Handled differently now)\n",
    "# X_test_tensor = torch.tensor(X_test,device=device).float()\n",
    "# ...\n",
    "# print(f'Test accuracy is {test_acc:.2f}%')"
   ]
  },
  {
   "cell_type": "code",
   "execution_count": null,
   "metadata": {
    "execution": {
     "iopub.execute_input": "2024-05-10T15:48:38.919978Z",
     "iopub.status.busy": "2024-05-10T15:48:38.919596Z",
     "iopub.status.idle": "2024-05-10T15:48:39.235663Z",
     "shell.execute_reply": "2024-05-10T15:48:39.234854Z",
     "shell.execute_reply.started": "2024-05-10T15:48:38.919934Z"
    },
    "trusted": true
   },
   "outputs": [
    {
     "data": {
      "text/plain": [
       "<matplotlib.legend.Legend at 0x7e3fae99ae60>"
      ]
     },
     "execution_count": 23,
     "metadata": {},
     "output_type": "execute_result"
    },
    {
     "data": {
      "image/png": "[encoded data removed]",
      "text/plain": [
       "<Figure size 640x480 with 1 Axes>"
      ]
     },
     "metadata": {},
     "output_type": "display_data"
    }
   ],
   "source": [
    "# Original Loss Plot (Not applicable)\n",
    "# plt.plot(losses,'b')\n",
    "# plt.plot(val_losses,'r')\n",
    "# plt.legend(['train loss','val loss'])"
   ]
  },
  {
   "cell_type": "code",
   "execution_count": null,
   "metadata": {},
   "outputs": [],
   "source": []
  }
 ],
 "metadata": {
  "kernelspec": {
   "display_name": "base",
   "language": "python",
   "name": "python3"
  },
  "language_info": {
   "codemirror_mode": {
    "name": "ipython",
    "version": 3
   },
   "file_extension": ".py",
   "mimetype": "text/x-python",
   "name": "python",
   "nbconvert_exporter": "python",
   "pygments_lexer": "ipython3",
   "version": "3.12.7"
  }
 },
 "nbformat": 4,
 "nbformat_minor": 4
}
